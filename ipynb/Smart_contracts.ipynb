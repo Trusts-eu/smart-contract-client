{
 "cells": [
  {
   "cell_type": "code",
   "execution_count": 2,
   "metadata": {},
   "outputs": [],
   "source": [
    "import doctest\n",
    "import json\n",
    "import os\n",
    "import requests\n",
    "\n",
    "import nose\n",
    "import nose.tools"
   ]
  },
  {
   "cell_type": "code",
   "execution_count": 2,
   "metadata": {},
   "outputs": [
    {
     "data": {
      "text/plain": [
       "TestResults(failed=0, attempted=6)"
      ]
     },
     "execution_count": 2,
     "metadata": {},
     "output_type": "execute_result"
    }
   ],
   "source": [
    "class SmartContractClient():\n",
    "    \n",
    "    def __init__(self, base_url, headers):\n",
    "        URL_SUBDIRECTORIES = {\n",
    "        'basic_create_asset': 'basic/createasset',\n",
    "        'secure_transfer_asset': 'secure/transferasset',\n",
    "        }\n",
    "    \n",
    "        self.base_url = base_url\n",
    "        self.headers = headers\n",
    "        self.urls = self.__create_urls(URL_SUBDIRECTORIES)\n",
    "        \n",
    "    def __create_urls(self, base_url):\n",
    "        return {method_name: os.path.join(self.base_url, url_subdirectory)\n",
    "                for method_name, url_subdirectory in base_url.items()}\n",
    "    \n",
    "    def send_request_to_smart_contract_api(self, kind, data):\n",
    "        return requests.get(self.urls[kind], headers=self.headers, data=json.dumps(data))\n",
    "\n",
    "    ### OLD\n",
    "    def basic_create_asset(self, data):\n",
    "        \"\"\"\n",
    "        >>> URL_BLOCKCHAIN = 'http://34.77.109.175:8020/api'\n",
    "        >>> headers = {'Content-Type': 'application/json'}\n",
    "        >>> scc = SmartContractClient(URL_BLOCKCHAIN, headers)\n",
    "        >>> data_basic_create_asset = {\n",
    "        ... \"channel\": \"mychannel\",\n",
    "        ... \"msp\": \"Org1MSP\",\n",
    "        ... \"orguid\": \"Org1_appuser\",\n",
    "        ... \"assetid\": \"asset12\",\n",
    "        ... \"title\": \"Large medical dataset\",\n",
    "        ... \"size\": 5,\n",
    "        ... \"owner\": \"Org1MSP\",\n",
    "        ... \"value\": 15,\n",
    "        ... \"publisher\": \"TRUSTS\",\n",
    "        ... \"creator\": \"TRUSTS_RESEARCH\",\n",
    "        ... \"contactPoint\": \"Joe Trusts\",\n",
    "        ... \"keyword\": \"Medical\",\n",
    "        ... \"authorisation\": \"OAuth\",\n",
    "        ... \"dataAccess\": \"URL:www.example.com/data\",\n",
    "        ... \"creationDate\": \"07/02/22\",\n",
    "        ... \"license\": \"MIT\",\n",
    "        ... \"format\": \".csv:none:csv\",\n",
    "        ... \"accessInterface\": \"Web:Local\",\n",
    "        ... \"description\": \"A sample asset on the trusts platform\",\n",
    "        ... }\n",
    "        >>> r = scc.basic_create_asset(data_basic_create_asset)\n",
    "        >>> r.json()['status']\n",
    "        'OK'\n",
    "        \"\"\"\n",
    "        return requests.get(self.urls['basic_create_asset'], headers=self.headers, data=json.dumps(data))\n",
    "        \n",
    "    def secure_create_asset(self, data):\n",
    "        return requests.get(self.urls['secure_create_asset'], headers=self.headers, data=json.dumps(data))\n",
    "    \n",
    "    def secure_transfer_asset(self, data):\n",
    "        return requests.get(self.urls['secure_transfer_asset'], headers=self.headers, data=json.dumps(data))\n",
    "    \n",
    "    \n",
    "doctest.testmod()"
   ]
  },
  {
   "cell_type": "code",
   "execution_count": 3,
   "metadata": {},
   "outputs": [],
   "source": [
    "def make_request_to_smart_contract_api(base_url):\n",
    "    \n",
    "    URL_SUBDIRECTORIES = {\n",
    "        'basic_create_asset': 'basic/createasset',\n",
    "        'basic_get_all_assets': 'basic/getallassets',\n",
    "        'basic_init_ledger': 'basic/initledger',\n",
    "        'basic_transfer_asset': 'basic/transferasset',\n",
    "        'basic_update_asset': 'basic/updateasset',\n",
    "        'scoring_get_all_scores': 'scoring/getallscores',\n",
    "        'scoring_init_ledger': 'scoring/initledger',\n",
    "        'scoring_update': 'scoring/updatescore',\n",
    "        'secure_agree_to_buy': 'secure/agreetobuy',\n",
    "        'secure_agree_to_sell': 'secure/agreetosell',\n",
    "        'secure_create_asset': 'secure/createasset',\n",
    "        'secure_read_asset': 'secure/readasset',\n",
    "        'secure_read_bid_price': 'secure/readbidprice',\n",
    "        'secure_read_sale_price': 'secure/readsaleprice',\n",
    "        'secure_transfer_asset': 'secure/transferasset',\n",
    "        'secure_update_description': 'secure/updatedescription',\n",
    "        'secure_verify_asset': 'secure/verifyasset',\n",
    "        }\n",
    "    \n",
    "    headers = {'Content-Type': 'application/json'}\n",
    "    \n",
    "    def __create_urls(base_url):\n",
    "        return {method_name: os.path.join(base_url, url_subdirectory)\n",
    "                for method_name, url_subdirectory in URL_SUBDIRECTORIES.items()}\n",
    "    \n",
    "    urls = __create_urls(base_url)\n",
    "        \n",
    "    def send_request_to_smart_contract_api(kind, data):\n",
    "        return requests.get(urls[kind], headers=headers, data=json.dumps(data))\n",
    "    \n",
    "    return send_request_to_smart_contract_api"
   ]
  },
  {
   "cell_type": "code",
   "execution_count": 4,
   "metadata": {},
   "outputs": [],
   "source": [
    "data_items = {\n",
    "    'basic_create_asset': {\n",
    "        \"channel\": \"mychannel\",\n",
    "                     \"msp\": \"Org1MSP\",\n",
    "                     \"orguid\": \"Org1_appuser\",\n",
    "                     \"assetid\": \"asset12\",\n",
    "                     \"title\": \"Large medical dataset\",\n",
    "                     \"size\": 5,\n",
    "                     \"owner\": \"Org1MSP\",\n",
    "                     \"value\": 15,\n",
    "                     \"publisher\": \"TRUSTS\",\n",
    "                     \"creator\": \"TRUSTS_RESEARCH\",\n",
    "                     \"contactPoint\": \"Joe Trusts\",\n",
    "                     \"keyword\": \"Medical\",\n",
    "                     \"authorisation\": \"OAuth\",\n",
    "                     \"dataAccess\": \"URL:www.example.com/data\",\n",
    "                     \"creationDate\": \"07/02/22\",\n",
    "                     \"license\": \"MIT\",\n",
    "                     \"format\": \".csv:none:csv\",\n",
    "                     \"accessInterface\": \"Web:Local\",\n",
    "                     \"description\": \"A sample asset on the trusts platform\",\n",
    "    },\n",
    "    'secure_transfer_asset': {\n",
    "        \"channel\": \"mychannel\",\n",
    "        \"msp\": \"Org1MSP\",\n",
    "        \"orguid\": \"Org1_appuser\",\n",
    "        \"assetid\": \"asset12\",\n",
    "        \"buyermsp\": \"Org2MSP\",\n",
    "        \"title\": \"Large medical dataset\",\n",
    "        \"size\": 5,\n",
    "        \"publisher\": \"TRUSTS\",\n",
    "        \"creator\": \"TRUSTS_RESEARCH\",\n",
    "        \"contactPoint\": \"Joe Trusts\",\n",
    "        \"keyword\": \"Medical\",\n",
    "        \"authorisation\": \"OAuth\",\n",
    "        \"dataAccess\": \"URL:www.example.com/data\",\n",
    "        \"creationDate\": \"07/02/22\",\n",
    "        \"license\": \"MIT\",\n",
    "        \"format\": \".csv:none:csv\",\n",
    "        \"accessInterface\": \"Web:Local\",\n",
    "        \"description\": \"A sample asset on the trusts platform\",\n",
    "        \"salt\": \"3932\",\n",
    "        \"price\": 30,\n",
    "        \"tradeid\": \"21\"\n",
    "    }\n",
    "}"
   ]
  },
  {
   "cell_type": "code",
   "execution_count": null,
   "metadata": {},
   "outputs": [],
   "source": [
    "nose.run()"
   ]
  },
  {
   "cell_type": "code",
   "execution_count": 5,
   "metadata": {},
   "outputs": [],
   "source": [
    "def test_requests():\n",
    "    for kind, data in data_items.items():\n",
    "        yield is_ok, kind, data\n",
    "        \n",
    "        \n",
    "def is_ok(kind, data):\n",
    "    r = send_request_to_smart_contract_api(kind, data)\n",
    "    assert r.json()['status'] == 'OK'"
   ]
  },
  {
   "cell_type": "code",
   "execution_count": 6,
   "metadata": {},
   "outputs": [],
   "source": [
    "URL_BLOCKCHAIN = 'http://34.77.109.175:8020/api'\n",
    "send_request_to_smart_contract_api = make_request_to_smart_contract_api(URL_BLOCKCHAIN)"
   ]
  },
  {
   "cell_type": "code",
   "execution_count": 7,
   "metadata": {},
   "outputs": [
    {
     "name": "stdout",
     "output_type": "stream",
     "text": [
      "OK\n",
      "OK\n"
     ]
    }
   ],
   "source": [
    "for kind, data in data_items.items():\n",
    "    r = send_request_to_smart_contract_api(kind, data)\n",
    "    print(r.json()['status'])"
   ]
  },
  {
   "cell_type": "code",
   "execution_count": 61,
   "metadata": {},
   "outputs": [
    {
     "data": {
      "text/plain": [
       "{'status': 'OK',\n",
       " 'message': '*** Chaincode error: Error: No valid responses from any peers. Errors:\\n    peer=peer0.org2.example.com:9051, status=500, message=the asset asset12 already exists\\n    peer=peer0.org1.example.com:7051, status=500, message=the asset asset12 already exists'}"
      ]
     },
     "execution_count": 61,
     "metadata": {},
     "output_type": "execute_result"
    }
   ],
   "source": [
    "data_basic_create_asset = {\n",
    "                     \"channel\": \"mychannel\",\n",
    "                     \"msp\": \"Org1MSP\",\n",
    "                     \"orguid\": \"Org1_appuser\",\n",
    "                     \"assetid\": \"asset12\",\n",
    "                     \"title\": \"Large medical dataset\",\n",
    "                     \"size\": 5,\n",
    "                     \"owner\": \"Org1MSP\",\n",
    "                     \"value\": 15,\n",
    "                     \"publisher\": \"TRUSTS\",\n",
    "                     \"creator\": \"TRUSTS_RESEARCH\",\n",
    "                     \"contactPoint\": \"Joe Trusts\",\n",
    "                     \"keyword\": \"Medical\",\n",
    "                     \"authorisation\": \"OAuth\",\n",
    "                     \"dataAccess\": \"URL:www.example.com/data\",\n",
    "                     \"creationDate\": \"07/02/22\",\n",
    "                     \"license\": \"MIT\",\n",
    "                     \"format\": \".csv:none:csv\",\n",
    "                     \"accessInterface\": \"Web:Local\",\n",
    "                     \"description\": \"A sample asset on the trusts platform\",\n",
    "                 }\n",
    "\n",
    "r = send_request_to_smart_contract_api('basic_create_asset', data_basic_create_asset)\n",
    "r.json()"
   ]
  },
  {
   "cell_type": "code",
   "execution_count": 17,
   "metadata": {},
   "outputs": [],
   "source": [
    "URL_BLOCKCHAIN = 'http://34.77.109.175:8020/api'\n",
    "URL_CLIENT_BLOCKCHAIN = 'http://35.205.236.68:8020/api'\n",
    "headers = {'Content-Type': 'application/json'}\n",
    "\n",
    "scc = SmartContractClient(URL_BLOCKCHAIN, headers)"
   ]
  },
  {
   "cell_type": "code",
   "execution_count": 22,
   "metadata": {},
   "outputs": [],
   "source": [
    "data_basic_create_asset = {\n",
    "                     \"channel\": \"mychannel\",\n",
    "                     \"msp\": \"Org1MSP\",\n",
    "                     \"orguid\": \"Org1_appuser\",\n",
    "                     \"assetid\": \"asset12\",\n",
    "                     \"title\": \"Large medical dataset\",\n",
    "                     \"size\": 5,\n",
    "                     \"owner\": \"Org1MSP\",\n",
    "                     \"value\": 15,\n",
    "                     \"publisher\": \"TRUSTS\",\n",
    "                     \"creator\": \"TRUSTS_RESEARCH\",\n",
    "                     \"contactPoint\": \"Joe Trusts\",\n",
    "                     \"keyword\": \"Medical\",\n",
    "                     \"authorisation\": \"OAuth\",\n",
    "                     \"dataAccess\": \"URL:www.example.com/data\",\n",
    "                     \"creationDate\": \"07/02/22\",\n",
    "                     \"license\": \"MIT\",\n",
    "                     \"format\": \".csv:none:csv\",\n",
    "                     \"accessInterface\": \"Web:Local\",\n",
    "                     \"description\": \"A sample asset on the trusts platform\",\n",
    "                 }\n",
    "data_secure_transfer_asset = {\n",
    "    \"channel\": \"mychannel\",\n",
    "    \"msp\": \"Org1MSP\",\n",
    "    \"orguid\": \"Org1_appuser\",\n",
    "    \"assetid\": \"asset12\",\n",
    "    \"buyermsp\": \"Org2MSP\",\n",
    "    \"title\": \"Large medical dataset\",\n",
    "    \"size\": 5,\n",
    "    \"publisher\": \"TRUSTS\",\n",
    "    \"creator\": \"TRUSTS_RESEARCH\",\n",
    "    \"contactPoint\": \"Joe Trusts\",\n",
    "    \"keyword\": \"Medical\",\n",
    "    \"authorisation\": \"OAuth\",\n",
    "    \"dataAccess\": \"URL:www.example.com/data\",\n",
    "    \"creationDate\": \"07/02/22\",\n",
    "    \"license\": \"MIT\",\n",
    "    \"format\": \".csv:none:csv\",\n",
    "    \"accessInterface\": \"Web:Local\",\n",
    "    \"description\": \"A sample asset on the trusts platform\",\n",
    "    \"salt\": \"3932\",\n",
    "    \"price\": 30,\n",
    "    \"tradeid\": \"21\"\n",
    "}"
   ]
  },
  {
   "cell_type": "code",
   "execution_count": 25,
   "metadata": {},
   "outputs": [],
   "source": [
    "r = scc.basic_create_asset(data_basic_create_asset)"
   ]
  },
  {
   "cell_type": "code",
   "execution_count": 26,
   "metadata": {},
   "outputs": [
    {
     "data": {
      "text/plain": [
       "'{\"status\":\"OK\",\"message\":\"*** Chaincode error: Error: No valid responses from any peers. Errors:\\\\n    peer=peer0.org1.example.com:7051, status=500, message=the asset asset12 already exists\\\\n    peer=peer0.org2.example.com:9051, status=500, message=the asset asset12 already exists\"}'"
      ]
     },
     "execution_count": 26,
     "metadata": {},
     "output_type": "execute_result"
    }
   ],
   "source": [
    "r.text"
   ]
  },
  {
   "cell_type": "code",
   "execution_count": 23,
   "metadata": {},
   "outputs": [],
   "source": [
    "r = scc.secure_transfer_asset(data_secure_transfer_asset)"
   ]
  },
  {
   "cell_type": "code",
   "execution_count": 24,
   "metadata": {},
   "outputs": [
    {
     "data": {
      "text/plain": [
       "'{\"status\":\"OK\",\"message\":\"*** Failed: TransferAsset - Error: No valid responses from any peers. Errors:\\\\n    peer=peer0.org1.example.com:7051, status=500, message=failed to get asset: asset12 does not exist\\\\n    peer=peer0.org2.example.com:9051, status=500, message=failed to get asset: asset12 does not exist\"}'"
      ]
     },
     "execution_count": 24,
     "metadata": {},
     "output_type": "execute_result"
    }
   ],
   "source": [
    "r.text"
   ]
  },
  {
   "cell_type": "code",
   "execution_count": null,
   "metadata": {},
   "outputs": [],
   "source": [
    "r = requests.get('http://34.77.109.175:8020/api/basic/createasset',\n",
    "                 headers={\"Content-Type\": \"application/json\"},\n",
    "                data=json.dumps({\n",
    "                     \"channel\": \"mychannel\",\n",
    "                     \"msp\": \"Org1MSP\",\n",
    "                     \"orguid\": \"Org1_appuser\",\n",
    "                     \"assetid\": \"asset12\",\n",
    "                     \"title\": \"Large medical dataset\",\n",
    "                     \"size\": 5,\n",
    "                     \"owner\": \"Org1MSP\",\n",
    "                     \"value\": 15,\n",
    "                     \"publisher\": \"TRUSTS\",\n",
    "                     \"creator\": \"TRUSTS_RESEARCH\",\n",
    "                     \"contactPoint\": \"Joe Trusts\",\n",
    "                     \"keyword\": \"Medical\",\n",
    "                     \"authorisation\": \"OAuth\",\n",
    "                     \"dataAccess\": \"URL:www.example.com/data\",\n",
    "                     \"creationDate\": \"07/02/22\",\n",
    "                     \"license\": \"MIT\",\n",
    "                     \"format\": \".csv:none:csv\",\n",
    "                     \"accessInterface\": \"Web:Local\",\n",
    "                     \"description\": \"A sample asset on the trusts platform\",\n",
    "                 }))"
   ]
  },
  {
   "cell_type": "code",
   "execution_count": null,
   "metadata": {},
   "outputs": [],
   "source": [
    "r.text"
   ]
  },
  {
   "cell_type": "code",
   "execution_count": null,
   "metadata": {},
   "outputs": [],
   "source": [
    "r = requests.get('http://34.77.109.175:8020/api/basic/createasset')"
   ]
  },
  {
   "cell_type": "code",
   "execution_count": null,
   "metadata": {},
   "outputs": [],
   "source": [
    "r.json()"
   ]
  },
  {
   "cell_type": "code",
   "execution_count": null,
   "metadata": {},
   "outputs": [],
   "source": [
    "scc.basic_create_asset(data)"
   ]
  },
  {
   "cell_type": "code",
   "execution_count": null,
   "metadata": {},
   "outputs": [],
   "source": [
    "data_basic_create_asset = {\n",
    "                     \"channel\": \"mychannel\",\n",
    "                     \"msp\": \"Org1MSP\",\n",
    "                     \"orguid\": \"Org1_appuser\",\n",
    "                     \"assetid\": \"asset12\",\n",
    "                     \"title\": \"Large medical dataset\",\n",
    "                     \"size\": 5,\n",
    "                     \"owner\": \"Org1MSP\",\n",
    "                     \"value\": 15,\n",
    "                     \"publisher\": \"TRUSTS\",\n",
    "                     \"creator\": \"TRUSTS_RESEARCH\",\n",
    "                     \"contactPoint\": \"Joe Trusts\",\n",
    "                     \"keyword\": \"Medical\",\n",
    "                     \"authorisation\": \"OAuth\",\n",
    "                     \"dataAccess\": \"URL:www.example.com/data\",\n",
    "                     \"creationDate\": \"07/02/22\",\n",
    "                     \"license\": \"MIT\",\n",
    "                     \"format\": \".csv:none:csv\",\n",
    "                     \"accessInterface\": \"Web:Local\",\n",
    "                     \"description\": \"A sample asset on the trusts platform\",\n",
    "                 }\n",
    "data = {\n",
    "    \"channel\": \"mychannel\",\n",
    "    \"msp\": \"Org1MSP\",\n",
    "    \"orguid\": \"Org1_appuser\",\n",
    "    \"assetid\": \"asset1\",\n",
    "    \"buyermsp\": \"Org2MSP\",\n",
    "    \"title\": \"Large medical dataset\",\n",
    "    \"size\": 5,\n",
    "    \"publisher\": \"TRUSTS\",\n",
    "    \"creator\": \"TRUSTS_RESEARCH\",\n",
    "    \"contactPoint\": \"Joe Trusts\",\n",
    "    \"keyword\": \"Medical\",\n",
    "    \"authorisation\": \"OAuth\",\n",
    "    \"dataAccess\": \"URL:www.example.com/data\",\n",
    "    \"creationDate\": \"07/02/22\",\n",
    "    \"license\": \"MIT\",\n",
    "    \"format\": \".csv:none:csv\",\n",
    "    \"accessInterface\": \"Web:Local\",\n",
    "    \"description\": \"A sample asset on the trusts platform\",\n",
    "    \"salt\": \"3932\",\n",
    "    \"price\": 30,\n",
    "    \"tradeid\": \"21\"\n",
    "}"
   ]
  },
  {
   "cell_type": "code",
   "execution_count": null,
   "metadata": {},
   "outputs": [],
   "source": [
    "scc.basic_create_asset(data)"
   ]
  },
  {
   "cell_type": "code",
   "execution_count": null,
   "metadata": {},
   "outputs": [],
   "source": [
    "r = requests.get('api/basic/createasset',\n",
    "                 headers={\n",
    "                     \"Content-Type\": \"application/json\",\n",
    "                 }\n",
    "                 data={\n",
    "                     \"channel\": \"mychannel\",\n",
    "                     \"msp\": \"Org1MSP\",\n",
    "                     \"orguid\": \"Org1_appuser\",\n",
    "                     \"assetid\": \"asset12\",\n",
    "                     \"title\": \"Large medical dataset\",\n",
    "                     \"size\": 5,\n",
    "                     \"owner\": \"Org1MSP\",\n",
    "                     \"value\": 15,\n",
    "                     \"publisher\": \"TRUSTS\",\n",
    "                     \"creator\": \"TRUSTS_RESEARCH\",\n",
    "                     \"contactPoint\": \"Joe Trusts\",\n",
    "                     \"keyword\": \"Medical\",\n",
    "                     \"authorisation\": \"OAuth\",\n",
    "                     \"dataAccess\": \"URL:www.example.com/data\",\n",
    "                     \"creationDate\": \"07/02/22\",\n",
    "                     \"license\": \"MIT\",\n",
    "                     \"format\": \".csv:none:csv\",\n",
    "                     \"accessInterface\": \"Web:Local\",\n",
    "                     \"description\": \"A sample asset on the trusts platform\",\n",
    "                 }\n",
    "                )\n",
    "\n",
    "# curl --request GET \\\n",
    "#   --url http://10.132.0.8:8020/api/basic/createasset \\\n",
    "#   --header 'Content-Type: application/json' \\\n",
    "#   --data '{\n",
    "#   \"channel\": \"mychannel\",\n",
    "#   \"msp\": \"Org1MSP\",\n",
    "#   \"orguid\": \"Org1_appuser\",\n",
    "#   \"assetid\": \"asset12\",\n",
    "#   \"title\": \"Large medical dataset\",\n",
    "#   \"size\": 5,\n",
    "#   \"owner\": \"Org1MSP\",\n",
    "#   \"value\": 15,\n",
    "#   \"publisher\": \"TRUSTS\",\n",
    "#   \"creator\": \"TRUSTS_RESEARCH\",\n",
    "#   \"contactPoint\": \"Joe Trusts\",\n",
    "#   \"keyword\": \"Medical\",\n",
    "#   \"authorisation\": \"OAuth\",\n",
    "#   \"dataAccess\": \"URL:www.example.com/data\",\n",
    "#   \"creationDate\": \"07/02/22\",\n",
    "#   \"license\": \"MIT\",\n",
    "#   \"format\": \".csv:none:csv\",\n",
    "#   \"accessInterface\": \"Web:Local\",\n",
    "#   \"description\": \"A sample asset on the trusts platform\"\n",
    "# }'"
   ]
  }
 ],
 "metadata": {
  "kernelspec": {
   "display_name": "smart_contract_client",
   "language": "python",
   "name": "smart_contract_client"
  },
  "language_info": {
   "codemirror_mode": {
    "name": "ipython",
    "version": 3
   },
   "file_extension": ".py",
   "mimetype": "text/x-python",
   "name": "python",
   "nbconvert_exporter": "python",
   "pygments_lexer": "ipython3",
   "version": "3.8.10"
  }
 },
 "nbformat": 4,
 "nbformat_minor": 4
}
